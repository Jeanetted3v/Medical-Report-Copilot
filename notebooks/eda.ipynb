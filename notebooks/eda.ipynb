{
 "cells": [
  {
   "cell_type": "code",
   "execution_count": 2,
   "id": "8e929e53",
   "metadata": {},
   "outputs": [],
   "source": [
    "from pathlib import Path\n",
    "import pdfplumber\n",
    "import pandas as pd\n"
   ]
  },
  {
   "cell_type": "code",
   "execution_count": 9,
   "id": "3fa37c63",
   "metadata": {},
   "outputs": [],
   "source": [
    "\n",
    "eye_filepath = Path('..') / 'data' / 'raw' / 'Eye_test_report (1).pdf'\n"
   ]
  },
  {
   "cell_type": "code",
   "execution_count": 10,
   "id": "1162eea4",
   "metadata": {},
   "outputs": [
    {
     "name": "stderr",
     "output_type": "stream",
     "text": [
      "CropBox missing from /Page, defaulting to MediaBox\n",
      "CropBox missing from /Page, defaulting to MediaBox\n",
      "CropBox missing from /Page, defaulting to MediaBox\n",
      "CropBox missing from /Page, defaulting to MediaBox\n"
     ]
    },
    {
     "name": "stdout",
     "output_type": "stream",
     "text": [
      "PDF opened successfully!\n",
      "Number of pages: 2\n",
      "PDF metadata: {'Title': 'DRP report.pdf', 'Producer': 'macOS Version 12.7.6 (Build 21H1320) Quartz PDFContext', 'CreationDate': \"D:20250603080158Z00'00'\", 'ModDate': \"D:20250603080158Z00'00'\"}\n"
     ]
    }
   ],
   "source": [
    "try:\n",
    "    with pdfplumber.open(eye_filepath) as pdf:\n",
    "        print(\"PDF opened successfully!\")\n",
    "        print(f\"Number of pages: {len(pdf.pages)}\")\n",
    "        print(f\"PDF metadata: {pdf.metadata}\")\n",
    "except Exception as e:\n",
    "    print(f\"Error opening PDF: {e}\")"
   ]
  },
  {
   "cell_type": "code",
   "execution_count": 11,
   "id": "6202004e",
   "metadata": {},
   "outputs": [
    {
     "name": "stderr",
     "output_type": "stream",
     "text": [
      "CropBox missing from /Page, defaulting to MediaBox\n",
      "CropBox missing from /Page, defaulting to MediaBox\n",
      "CropBox missing from /Page, defaulting to MediaBox\n",
      "CropBox missing from /Page, defaulting to MediaBox\n"
     ]
    },
    {
     "name": "stdout",
     "output_type": "stream",
     "text": [
      "\n",
      "=== PAGE 1 ===\n",
      "No text found\n",
      "Tables found: 0\n",
      "\n",
      "=== PAGE 2 ===\n",
      "No text found\n",
      "Tables found: 0\n"
     ]
    }
   ],
   "source": [
    "# Check what's on each page\n",
    "with pdfplumber.open(eye_filepath) as pdf:\n",
    "    for i, page in enumerate(pdf.pages):\n",
    "        print(f\"\\n=== PAGE {i+1} ===\")\n",
    "        \n",
    "        # Check for text\n",
    "        text = page.extract_text()\n",
    "        if text:\n",
    "            print(f\"Text found: {len(text)} characters\")\n",
    "            print(\"First 200 characters:\")\n",
    "            print(text[:200])\n",
    "        else:\n",
    "            print(\"No text found\")\n",
    "        \n",
    "        # Check for tables\n",
    "        tables = page.extract_tables()\n",
    "        print(f\"Tables found: {len(tables)}\")\n",
    "        \n",
    "        if tables:\n",
    "            for j, table in enumerate(tables):\n",
    "                print(f\"  Table {j+1}: {len(table)} rows, {len(table[0]) if table else 0} columns\")\n",
    "                # Show first few rows\n",
    "                print(\"  Preview:\")\n",
    "                for row in table[:3]:  # First 3 rows\n",
    "                    print(f\"    {row}\")"
   ]
  },
  {
   "cell_type": "code",
   "execution_count": 12,
   "id": "1f4456ab",
   "metadata": {},
   "outputs": [
    {
     "name": "stderr",
     "output_type": "stream",
     "text": [
      "CropBox missing from /Page, defaulting to MediaBox\n",
      "CropBox missing from /Page, defaulting to MediaBox\n",
      "CropBox missing from /Page, defaulting to MediaBox\n",
      "CropBox missing from /Page, defaulting to MediaBox\n"
     ]
    },
    {
     "name": "stdout",
     "output_type": "stream",
     "text": [
      "\n",
      "Page 1:\n",
      "  Images: 2\n",
      "  Characters: 0\n",
      "  Lines: 6\n",
      "  Rectangles: 3\n",
      "\n",
      "Page 2:\n",
      "  Images: 2\n",
      "  Characters: 0\n",
      "  Lines: 0\n",
      "  Rectangles: 0\n"
     ]
    }
   ],
   "source": [
    "# Let's see what pdfplumber can detect\n",
    "with pdfplumber.open(eye_filepath) as pdf:\n",
    "    for i, page in enumerate(pdf.pages):\n",
    "        print(f\"\\nPage {i+1}:\")\n",
    "        print(f\"  Images: {len(page.images)}\")\n",
    "        print(f\"  Characters: {len(page.chars)}\")\n",
    "        print(f\"  Lines: {len(page.lines)}\")\n",
    "        print(f\"  Rectangles: {len(page.rects)}\")"
   ]
  }
 ],
 "metadata": {
  "kernelspec": {
   "display_name": ".venv",
   "language": "python",
   "name": "python3"
  },
  "language_info": {
   "codemirror_mode": {
    "name": "ipython",
    "version": 3
   },
   "file_extension": ".py",
   "mimetype": "text/x-python",
   "name": "python",
   "nbconvert_exporter": "python",
   "pygments_lexer": "ipython3",
   "version": "3.12.4"
  }
 },
 "nbformat": 4,
 "nbformat_minor": 5
}
