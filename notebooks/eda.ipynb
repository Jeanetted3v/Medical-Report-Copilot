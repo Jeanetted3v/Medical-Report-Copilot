{
 "cells": [
  {
   "cell_type": "code",
   "execution_count": 1,
   "id": "8e929e53",
   "metadata": {},
   "outputs": [],
   "source": [
    "from pathlib import Path\n",
    "import pdfplumber\n",
    "import pandas as pd\n"
   ]
  },
  {
   "cell_type": "code",
   "execution_count": 9,
   "id": "3fa37c63",
   "metadata": {},
   "outputs": [],
   "source": [
    "\n",
    "eye_filepath = Path('..') / 'data' / 'raw' / 'Eye_test_report (1).pdf'\n"
   ]
  },
  {
   "cell_type": "code",
   "execution_count": 10,
   "id": "1162eea4",
   "metadata": {},
   "outputs": [
    {
     "name": "stderr",
     "output_type": "stream",
     "text": [
      "CropBox missing from /Page, defaulting to MediaBox\n",
      "CropBox missing from /Page, defaulting to MediaBox\n",
      "CropBox missing from /Page, defaulting to MediaBox\n",
      "CropBox missing from /Page, defaulting to MediaBox\n"
     ]
    },
    {
     "name": "stdout",
     "output_type": "stream",
     "text": [
      "PDF opened successfully!\n",
      "Number of pages: 2\n",
      "PDF metadata: {'Title': 'DRP report.pdf', 'Producer': 'macOS Version 12.7.6 (Build 21H1320) Quartz PDFContext', 'CreationDate': \"D:20250603080158Z00'00'\", 'ModDate': \"D:20250603080158Z00'00'\"}\n"
     ]
    }
   ],
   "source": [
    "try:\n",
    "    with pdfplumber.open(eye_filepath) as pdf:\n",
    "        print(\"PDF opened successfully!\")\n",
    "        print(f\"Number of pages: {len(pdf.pages)}\")\n",
    "        print(f\"PDF metadata: {pdf.metadata}\")\n",
    "except Exception as e:\n",
    "    print(f\"Error opening PDF: {e}\")"
   ]
  },
  {
   "cell_type": "code",
   "execution_count": 11,
   "id": "6202004e",
   "metadata": {},
   "outputs": [
    {
     "name": "stderr",
     "output_type": "stream",
     "text": [
      "CropBox missing from /Page, defaulting to MediaBox\n",
      "CropBox missing from /Page, defaulting to MediaBox\n",
      "CropBox missing from /Page, defaulting to MediaBox\n",
      "CropBox missing from /Page, defaulting to MediaBox\n"
     ]
    },
    {
     "name": "stdout",
     "output_type": "stream",
     "text": [
      "\n",
      "=== PAGE 1 ===\n",
      "No text found\n",
      "Tables found: 0\n",
      "\n",
      "=== PAGE 2 ===\n",
      "No text found\n",
      "Tables found: 0\n"
     ]
    }
   ],
   "source": [
    "# Check what's on each page\n",
    "with pdfplumber.open(eye_filepath) as pdf:\n",
    "    for i, page in enumerate(pdf.pages):\n",
    "        print(f\"\\n=== PAGE {i+1} ===\")\n",
    "        \n",
    "        # Check for text\n",
    "        text = page.extract_text()\n",
    "        if text:\n",
    "            print(f\"Text found: {len(text)} characters\")\n",
    "            print(\"First 200 characters:\")\n",
    "            print(text[:200])\n",
    "        else:\n",
    "            print(\"No text found\")\n",
    "        \n",
    "        # Check for tables\n",
    "        tables = page.extract_tables()\n",
    "        print(f\"Tables found: {len(tables)}\")\n",
    "        \n",
    "        if tables:\n",
    "            for j, table in enumerate(tables):\n",
    "                print(f\"  Table {j+1}: {len(table)} rows, {len(table[0]) if table else 0} columns\")\n",
    "                # Show first few rows\n",
    "                print(\"  Preview:\")\n",
    "                for row in table[:3]:  # First 3 rows\n",
    "                    print(f\"    {row}\")"
   ]
  },
  {
   "cell_type": "code",
   "execution_count": 12,
   "id": "1f4456ab",
   "metadata": {},
   "outputs": [
    {
     "name": "stderr",
     "output_type": "stream",
     "text": [
      "CropBox missing from /Page, defaulting to MediaBox\n",
      "CropBox missing from /Page, defaulting to MediaBox\n",
      "CropBox missing from /Page, defaulting to MediaBox\n",
      "CropBox missing from /Page, defaulting to MediaBox\n"
     ]
    },
    {
     "name": "stdout",
     "output_type": "stream",
     "text": [
      "\n",
      "Page 1:\n",
      "  Images: 2\n",
      "  Characters: 0\n",
      "  Lines: 6\n",
      "  Rectangles: 3\n",
      "\n",
      "Page 2:\n",
      "  Images: 2\n",
      "  Characters: 0\n",
      "  Lines: 0\n",
      "  Rectangles: 0\n"
     ]
    }
   ],
   "source": [
    "# Let's see what pdfplumber can detect\n",
    "with pdfplumber.open(eye_filepath) as pdf:\n",
    "    for i, page in enumerate(pdf.pages):\n",
    "        print(f\"\\nPage {i+1}:\")\n",
    "        print(f\"  Images: {len(page.images)}\")\n",
    "        print(f\"  Characters: {len(page.chars)}\")\n",
    "        print(f\"  Lines: {len(page.lines)}\")\n",
    "        print(f\"  Rectangles: {len(page.rects)}\")"
   ]
  },
  {
   "cell_type": "markdown",
   "id": "787b8db3",
   "metadata": {},
   "source": [
    "## Extracting using Nanonets OCR"
   ]
  },
  {
   "cell_type": "code",
   "execution_count": 1,
   "id": "97d1dab3",
   "metadata": {},
   "outputs": [
    {
     "name": "stderr",
     "output_type": "stream",
     "text": [
      "/Users/mac/miniconda3/envs/med/lib/python3.12/site-packages/tqdm/auto.py:21: TqdmWarning: IProgress not found. Please update jupyter and ipywidgets. See https://ipywidgets.readthedocs.io/en/stable/user_install.html\n",
      "  from .autonotebook import tqdm as notebook_tqdm\n"
     ]
    }
   ],
   "source": [
    "from pathlib import Path\n",
    "from pdf2image import convert_from_path\n",
    "from transformers import AutoModelForImageTextToText, AutoTokenizer, AutoProcessor\n"
   ]
  },
  {
   "cell_type": "code",
   "execution_count": null,
   "id": "d81cdd94",
   "metadata": {},
   "outputs": [
    {
     "name": "stderr",
     "output_type": "stream",
     "text": [
      "Loading checkpoint shards: 100%|██████████| 2/2 [00:00<00:00,  2.71it/s]\n",
      "Some parameters are on the meta device because they were offloaded to the disk and cpu.\n",
      "Using a slow image processor as `use_fast` is unset and a slow processor was saved with this model. `use_fast=True` will be the default behavior in v4.52, even if the model was saved with a slow processor. This will result in minor differences in outputs. You'll still be able to use a slow processor with `use_fast=False`.\n"
     ]
    },
    {
     "name": "stdout",
     "output_type": "stream",
     "text": [
      "\n",
      "--- Page 1 ---\n"
     ]
    },
    {
     "name": "stderr",
     "output_type": "stream",
     "text": [
      "The following generation flags are not valid and may be ignored: ['temperature']. Set `TRANSFORMERS_VERBOSITY=info` for more details.\n"
     ]
    }
   ],
   "source": [
    "model_path = \"nanonets/Nanonets-OCR-s\"\n",
    "\n",
    "model = AutoModelForImageTextToText.from_pretrained(\n",
    "    model_path, \n",
    "    torch_dtype=\"auto\", \n",
    "    device_map=\"auto\", \n",
    "    # attn_implementation=\"flash_attention_2\"\n",
    ")\n",
    "model.eval()\n",
    "\n",
    "tokenizer = AutoTokenizer.from_pretrained(model_path)\n",
    "processor = AutoProcessor.from_pretrained(model_path)\n",
    "\n",
    "\n",
    "def ocr_page_with_nanonets_s(image, model, processor, max_new_tokens=4096):\n",
    "    prompt = \"\"\"Extract the text from the above document as if you were reading it naturally. Return the tables in html format.\n",
    "    Return the equations in LaTeX representation. If there is an image in the document and image caption is not present,\n",
    "    add a small description of the image inside the <img></img> tag; otherwise, add the image caption inside <img></img>.\n",
    "    Watermarks should be wrapped in brackets. Ex: <watermark>OFFICIAL COPY</watermark>. Page numbers should be wrapped in brackets.\n",
    "    Ex: <page_number>14</page_number> or <page_number>9/22</page_number>. Prefer using ☐ and ☑ for check boxes.\"\"\"\n",
    "\n",
    "    messages = [\n",
    "        {\"role\": \"system\", \"content\": \"You are a helpful assistant.\"},\n",
    "        {\"role\": \"user\", \"content\": [\n",
    "            {\"type\": \"image\", \"image\": image},\n",
    "            {\"type\": \"text\", \"text\": prompt},\n",
    "        ]},\n",
    "    ]\n",
    "    text = processor.apply_chat_template(messages, tokenize=False, add_generation_prompt=True)\n",
    "    inputs = processor(text=[text], images=[image], padding=True, return_tensors=\"pt\")\n",
    "    inputs = inputs.to(model.device)\n",
    "    \n",
    "    output_ids = model.generate(**inputs, max_new_tokens=max_new_tokens, do_sample=False)\n",
    "    generated_ids = [output_ids[len(input_ids):] for input_ids, output_ids in zip(inputs.input_ids, output_ids)]\n",
    "    \n",
    "    output_text = processor.batch_decode(generated_ids, skip_special_tokens=True, clean_up_tokenization_spaces=True)\n",
    "    return output_text[0]\n",
    "\n",
    "# Convert PDF to images\n",
    "eye_filepath = Path('..') / 'data' / 'raw' / 'Eye_test_report (1).pdf'\n",
    "images = convert_from_path(eye_filepath, dpi=300)\n",
    "\n",
    "# OCR each page\n",
    "for i, image in enumerate(images):\n",
    "    print(f\"\\n--- Page {i+1} ---\")\n",
    "    text = ocr_page_with_nanonets_s(image, model, processor, max_new_tokens=3000)\n",
    "    print(text)"
   ]
  },
  {
   "cell_type": "markdown",
   "id": "b1023612",
   "metadata": {},
   "source": [
    "## Extract with OpenAI"
   ]
  },
  {
   "cell_type": "code",
   "execution_count": null,
   "id": "6c3e296c",
   "metadata": {},
   "outputs": [],
   "source": [
    "extraction_agent = Agent()"
   ]
  },
  {
   "cell_type": "code",
   "execution_count": null,
   "id": "7b380b06",
   "metadata": {},
   "outputs": [],
   "source": []
  }
 ],
 "metadata": {
  "kernelspec": {
   "display_name": "med",
   "language": "python",
   "name": "python3"
  },
  "language_info": {
   "codemirror_mode": {
    "name": "ipython",
    "version": 3
   },
   "file_extension": ".py",
   "mimetype": "text/x-python",
   "name": "python",
   "nbconvert_exporter": "python",
   "pygments_lexer": "ipython3",
   "version": "3.12.7"
  }
 },
 "nbformat": 4,
 "nbformat_minor": 5
}
